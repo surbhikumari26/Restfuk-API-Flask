{
  "nbformat": 4,
  "nbformat_minor": 0,
  "metadata": {
    "colab": {
      "provenance": []
    },
    "kernelspec": {
      "name": "python3",
      "display_name": "Python 3"
    },
    "language_info": {
      "name": "python"
    }
  },
  "cells": [
    {
      "cell_type": "markdown",
      "source": [
        "# Restful API & Flask - Questions and Answers\n",
        "\n",
        "# 1. What is a RESTful API?\n",
        "\"\"\"\n",
        "A RESTful API is an API that follows the principles of REST (Representational State Transfer), using standard HTTP methods like GET, POST, PUT, and DELETE to access and manipulate resources.\n",
        "\"\"\"\n",
        "\n",
        "# 2. Explain the concept of API specification.\n",
        "\"\"\"\n",
        "An API specification defines how the API behaves, including endpoints, request/response format, data types, and authentication. OpenAPI is a common specification.\n",
        "\"\"\"\n",
        "\n",
        "# 3. What is Flask, and why is it popular for building APIs?\n",
        "\"\"\"\n",
        "Flask is a lightweight Python web framework that's easy to use and highly extensible, making it ideal for building APIs.\n",
        "\"\"\"\n",
        "\n",
        "# 4. What is routing in Flask?\n",
        "\"\"\"\n",
        "Routing refers to defining URL patterns and binding them to Python functions (view functions) using decorators like @app.route().\n",
        "\"\"\"\n",
        "\n",
        "# 5. How do you create a simple Flask application?\n",
        "     from flask import Flask\n",
        "     app = Flask(__name__)\n",
        "\n",
        "     @app.route('/')\n",
        "     def home():\n",
        "     return \"Hello, Flask!\"\n",
        "\n",
        "     if __name__ == '__main__':\n",
        "     app.run()\n",
        "\n",
        "# 6. What are HTTP methods used in RESTful APIs?\n",
        "\"\"\"\n",
        "GET, POST, PUT, DELETE, PATCH, OPTIONS\n",
        "\"\"\"\n",
        "\n",
        "# 7. What is the purpose of the @app.route() decorator in Flask?\n",
        "\"\"\"\n",
        "It binds a URL path to a function, defining what should be executed when that path is accessed.\n",
        "\"\"\"\n",
        "\n",
        "# 8. What is the difference between GET and POST HTTP methods?\n",
        "\"\"\"\n",
        "GET retrieves data; POST submits new data to the server.\n",
        "\"\"\"\n",
        "\n",
        "# 9. How do you handle errors in Flask APIs?\n",
        "     from flask import jsonify\n",
        "     @app.errorhandler(404)\n",
        "     def not_found(e):\n",
        "     return jsonify(error=\"Not Found\"), 404\n",
        "\n",
        "# 10. How do you connect Flask to a SQL database?\n",
        "\"\"\"\n",
        "Using SQLAlchemy or Flask-SQLAlchemy for ORM-based access.\n",
        "\"\"\"\n",
        "\n",
        "# 11. What is the role of Flask-SQLAlchemy?\n",
        "\"\"\"\n",
        "It integrates SQLAlchemy with Flask, simplifying database operations.\n",
        "\"\"\"\n",
        "\n",
        "# 12. What are Flask blueprints, and how are they useful?\n",
        "\"\"\"\n",
        "Blueprints let you organize routes and code by components/modules.\n",
        "\"\"\"\n",
        "\n",
        "# 13. What is the purpose of Flask's request object?\n",
        "from flask import request\n",
        "\"\"\"\n",
        "It holds data from the client's request like form data, JSON, headers.\n",
        "\"\"\"\n",
        "\n",
        "# 14. How do you create a RESTful API endpoint using Flask?\n",
        "      @app.route('/api/data', methods=['GET'])\n",
        "      def get_data():\n",
        "      return jsonify({\"data\": \"Sample\"})\n",
        "\n",
        "# 15. What is the purpose of Flask’s jsonify() function?\n",
        "\"\"\"\n",
        "Converts Python dictionaries to JSON responses.\n",
        "\"\"\"\n",
        "\n",
        "# 16. Explain Flask’s url_for() function.\n",
        "\"\"\"\n",
        "Generates a URL to a view function by name, helpful in templates or redirects.\n",
        "\"\"\"\n",
        "\n",
        "# 17. How does Flask handle static files (CSS, JavaScript, etc.)?\n",
        "\"\"\"\n",
        "Flask automatically serves files from the \"static\" folder.\n",
        "\"\"\"\n",
        "\n",
        "# 18. What is an API specification, and how does it help in building a Flask API?\n",
        "\"\"\"\n",
        "It defines API behavior and documentation. It improves consistency, validation, and team collaboration.\n",
        "\"\"\"\n",
        "\n",
        "# 19. What are HTTP status codes, and why are they important in a Flask API?\n",
        "\"\"\"\n",
        "They indicate the outcome of a request (e.g., 200 OK, 404 Not Found, 500 Server Error).\n",
        "\"\"\"\n",
        "\n",
        "# 20. How do you handle POST requests in Flask?\n",
        "      @app.route('/submit', methods=['POST'])\n",
        "      def submit():\n",
        "      data = request.json\n",
        "      return jsonify(data), 201\n",
        "\n",
        "# 21. How would you secure a Flask API?\n",
        "\"\"\"\n",
        "Use HTTPS, authentication (e.g., JWT), input validation, and error handling.\n",
        "\"\"\"\n",
        "\n",
        "# 22. What is the significance of the Flask-RESTful extension?\n",
        "\"\"\"\n",
        "It adds tools and structure for creating RESTful APIs in Flask.\n",
        "\"\"\"\n",
        "\n",
        "# 23. What is the role of Flask’s session object?\n",
        "from flask import session\n",
        "\"\"\"\n",
        "Stores user session data securely between requests using cookies.\n",
        "\"\"\"\n"
      ],
      "metadata": {
        "id": "kRbueuZeaKej"
      }
    },
    {
      "cell_type": "markdown",
      "source": [
        "#               PRACTICAL QUESTIONS"
      ],
      "metadata": {
        "id": "Xnyw293kna0G"
      }
    },
    {
      "cell_type": "code",
      "source": [
        "# 1. How do you create a basic Flask application?\n",
        "from flask import Flask, request, render_template, redirect, url_for, session, jsonify, Blueprint\n",
        "\n",
        "app = Flask(__name__)\n",
        "app.secret_key = 'your_secret_key'  # Required for session\n",
        "\n",
        "@app.route('/')\n",
        "def home():\n",
        "    return \"Hello, Flask!\"\n"
      ],
      "metadata": {
        "id": "5H9zoT5SjVeG"
      },
      "execution_count": null,
      "outputs": []
    },
    {
      "cell_type": "code",
      "source": [
        "# 2. How do you serve static files like images or CSS in Flask?\n",
        "# Place your files in a folder named 'static' and access them in HTML like:\n",
        "# <img src=\"{{ url_for('static', filename='image.jpg') }}\">\n",
        "# No Python code needed unless you're dynamically referencing them.\n"
      ],
      "metadata": {
        "id": "C0JtYKLQjxa5"
      },
      "execution_count": null,
      "outputs": []
    },
    {
      "cell_type": "code",
      "source": [
        "# 3. How do you define different routes with different HTTP methods in Flask?\n",
        "@app.route('/submit', methods=['GET', 'POST'])\n",
        "def submit():\n",
        "    if request.method == 'POST':\n",
        "        return 'Posted'\n",
        "    return 'Get Form'\n"
      ],
      "metadata": {
        "id": "4MFdn1k-j6Zc"
      },
      "execution_count": null,
      "outputs": []
    },
    {
      "cell_type": "code",
      "source": [
        "# 4. How do you render HTML templates in Flask?\n",
        "@app.route('/welcome')\n",
        "def welcome():\n",
        "    return render_template('welcome.html')  # Requires welcome.html in templates/\n"
      ],
      "metadata": {
        "id": "Kl7HVQxbkFyZ"
      },
      "execution_count": null,
      "outputs": []
    },
    {
      "cell_type": "code",
      "source": [
        "# 5. How can you generate URLs for routes in Flask using url_for?\n",
        "@app.route('/generate-url')\n",
        "def generate_url():\n",
        "    return url_for('welcome')  # Returns path to 'welcome' route\n"
      ],
      "metadata": {
        "id": "r_Njh0ArkOIO"
      },
      "execution_count": null,
      "outputs": []
    },
    {
      "cell_type": "code",
      "source": [
        "# 6. How do you handle forms in Flask?\n",
        "@app.route('/form', methods=['GET', 'POST'])\n",
        "def form():\n",
        "    if request.method == 'POST':\n",
        "        data = request.form.get('field', 'no data')\n",
        "        return f\"Received {data}\"\n",
        "    return render_template('form.html')  # Requires form.html with a form having 'field'\n"
      ],
      "metadata": {
        "id": "XrbiNjUTkabJ"
      },
      "execution_count": null,
      "outputs": []
    },
    {
      "cell_type": "code",
      "source": [
        "# 7. How can you validate form data in Flask?\n",
        "@app.route('/validate', methods=['POST'])\n",
        "def validate():\n",
        "    data = request.form.get('field')\n",
        "    if not data:\n",
        "        return \"Validation failed\"\n",
        "    return \"Validation passed\"\n"
      ],
      "metadata": {
        "id": "u8GCNlAOkd5a"
      },
      "execution_count": null,
      "outputs": []
    },
    {
      "cell_type": "code",
      "source": [
        "# 8. How do you manage sessions in Flask?\n",
        "@app.route('/set-session')\n",
        "def set_session():\n",
        "    session['user'] = 'admin'\n",
        "    return \"Session set\"\n",
        "\n",
        "@app.route('/get-session')\n",
        "def get_session():\n",
        "    return session.get('user', 'No session')\n"
      ],
      "metadata": {
        "id": "GHhvt_1ikk4s"
      },
      "execution_count": null,
      "outputs": []
    },
    {
      "cell_type": "code",
      "source": [
        "# 9. How do you redirect to a different route in Flask?\n",
        "@app.route('/go-home')\n",
        "def go_home():\n",
        "    return redirect(url_for('home'))\n"
      ],
      "metadata": {
        "id": "SAKZAgwJknVY"
      },
      "execution_count": null,
      "outputs": []
    },
    {
      "cell_type": "code",
      "source": [
        "# 10. How do you handle errors in Flask (e.g., 404)?\n",
        "@app.errorhandler(404)\n",
        "def page_not_found(e):\n",
        "    return \"404 Error: Page Not Found\", 404\n"
      ],
      "metadata": {
        "id": "SWTvqL4CksXM"
      },
      "execution_count": null,
      "outputs": []
    },
    {
      "cell_type": "code",
      "source": [
        "# 11. How do you structure a Flask app using Blueprints?\n",
        "admin = Blueprint('admin', __name__)\n",
        "\n",
        "@admin.route('/admin')\n",
        "def admin_dashboard():\n",
        "    return \"Admin Dashboard\"\n",
        "\n",
        "app.register_blueprint(admin)\n"
      ],
      "metadata": {
        "id": "atnK51EgkyGB"
      },
      "execution_count": null,
      "outputs": []
    },
    {
      "cell_type": "code",
      "source": [
        "# 12. How do you define a custom Jinja filter in Flask?\n",
        "@app.template_filter('reverse')\n",
        "def reverse_filter(s):\n",
        "    return s[::-1]\n"
      ],
      "metadata": {
        "id": "TFBlN-ZglSyE"
      },
      "execution_count": null,
      "outputs": []
    },
    {
      "cell_type": "code",
      "source": [
        "# 13. How can you redirect with query parameters in Flask?\n",
        "@app.route('/redirect-user')\n",
        "def redirect_user():\n",
        "    return redirect(url_for('home', user='john'))\n"
      ],
      "metadata": {
        "id": "S1L6u5Ielckp"
      },
      "execution_count": null,
      "outputs": []
    },
    {
      "cell_type": "code",
      "source": [
        "# 14. How do you return JSON responses in Flask?\n",
        "@app.route('/api/message')\n",
        "def api_message():\n",
        "    return jsonify({'message': 'success'})\n"
      ],
      "metadata": {
        "id": "922b_VJOloa7"
      },
      "execution_count": null,
      "outputs": []
    },
    {
      "cell_type": "code",
      "source": [
        "# 15. How do you capture URL parameters in Flask?\n",
        "@app.route('/user/<username>')\n",
        "def show_user(username):\n",
        "    return f\"User: {username}\"\n"
      ],
      "metadata": {
        "id": "bp9Q_CeupmJg"
      },
      "execution_count": null,
      "outputs": []
    }
  ]
}